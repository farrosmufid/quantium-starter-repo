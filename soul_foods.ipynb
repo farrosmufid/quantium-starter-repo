{
 "cells": [
  {
   "cell_type": "code",
   "execution_count": null,
   "metadata": {},
   "outputs": [],
   "source": [
    "import pandas as pd\n",
    "import numpy as np"
   ]
  },
  {
   "cell_type": "markdown",
   "metadata": {},
   "source": [
    "## Task Two"
   ]
  },
  {
   "cell_type": "code",
   "execution_count": null,
   "metadata": {},
   "outputs": [],
   "source": [
    "daily_sales_data_list = []\n",
    "\n",
    "for i in range(0, 3):\n",
    "    daily_sales_data_df_read = pd.read_csv('./data/daily_sales_data_{}.csv'.format(i))\n",
    "    daily_sales_data_list.append(daily_sales_data_df_read)"
   ]
  },
  {
   "cell_type": "code",
   "execution_count": null,
   "metadata": {},
   "outputs": [],
   "source": [
    "daily_sales_data_df = pd.concat(daily_sales_data_list)"
   ]
  },
  {
   "cell_type": "code",
   "execution_count": null,
   "metadata": {},
   "outputs": [],
   "source": [
    "daily_sales_data_df.head()"
   ]
  },
  {
   "cell_type": "code",
   "execution_count": null,
   "metadata": {},
   "outputs": [],
   "source": [
    "daily_sales_data_df['price'] = daily_sales_data_df['price'].str.replace('$', '').astype(float)"
   ]
  },
  {
   "cell_type": "code",
   "execution_count": null,
   "metadata": {},
   "outputs": [],
   "source": [
    "daily_sales_data_df['product'].unique()"
   ]
  },
  {
   "cell_type": "code",
   "execution_count": null,
   "metadata": {},
   "outputs": [],
   "source": [
    "# Only keep pink morsel\n",
    "daily_sales_data_df = daily_sales_data_df[daily_sales_data_df['product'] == 'pink morsel']"
   ]
  },
  {
   "cell_type": "code",
   "execution_count": null,
   "metadata": {},
   "outputs": [],
   "source": [
    "# sales = quantity * price\n",
    "daily_sales_data_df['sales'] = daily_sales_data_df['quantity'] * daily_sales_data_df['price']"
   ]
  },
  {
   "cell_type": "code",
   "execution_count": null,
   "metadata": {},
   "outputs": [],
   "source": [
    "# convert date to datetime format\n",
    "daily_sales_data_df['date'] = pd.to_datetime(daily_sales_data_df['date'])"
   ]
  },
  {
   "cell_type": "code",
   "execution_count": null,
   "metadata": {},
   "outputs": [],
   "source": [
    "daily_sales_data_df['region'].unique()"
   ]
  },
  {
   "cell_type": "code",
   "execution_count": null,
   "metadata": {},
   "outputs": [],
   "source": [
    "daily_sales_data_df.head()"
   ]
  },
  {
   "cell_type": "code",
   "execution_count": null,
   "metadata": {},
   "outputs": [],
   "source": [
    "daily_sales_data_df = daily_sales_data_df[['sales', 'date', 'region']]\n",
    "daily_sales_data_df"
   ]
  },
  {
   "cell_type": "code",
   "execution_count": null,
   "metadata": {},
   "outputs": [],
   "source": [
    "daily_sales_data_df.to_csv('soul_foods_sales.csv', index = False)"
   ]
  },
  {
   "cell_type": "markdown",
   "metadata": {},
   "source": [
    "## Task Three"
   ]
  },
  {
   "cell_type": "code",
   "execution_count": null,
   "metadata": {},
   "outputs": [],
   "source": [
    "import plotly.express as px"
   ]
  },
  {
   "cell_type": "code",
   "execution_count": null,
   "metadata": {},
   "outputs": [],
   "source": [
    "soul_foods_sales_df = pd.read_csv('./soul_foods_sales.csv')\n",
    "soul_foods_sales_df['date'] = pd.to_datetime(soul_foods_sales_df['date'])\n",
    "fig = px.line(soul_foods_sales_df, x = 'date', y = 'sales', title = 'Pink Morsel Sales (2018-2022)')"
   ]
  },
  {
   "cell_type": "code",
   "execution_count": null,
   "metadata": {},
   "outputs": [],
   "source": [
    "fig"
   ]
  },
  {
   "cell_type": "code",
   "execution_count": null,
   "metadata": {},
   "outputs": [],
   "source": [
    "soul_foods_sales_df_filtered = \\\n",
    "    soul_foods_sales_df[(soul_foods_sales_df['date'] >= '2021-01-01') & \n",
    "                                 (soul_foods_sales_df['date'] < '2021-02-01')]"
   ]
  },
  {
   "cell_type": "code",
   "execution_count": null,
   "metadata": {},
   "outputs": [],
   "source": [
    "fig2 = px.line(soul_foods_sales_df_filtered, x = 'date', y = 'sales', title = 'Pink Morsel Sales (2018-2022)')"
   ]
  },
  {
   "cell_type": "code",
   "execution_count": null,
   "metadata": {},
   "outputs": [],
   "source": [
    "fig2"
   ]
  },
  {
   "cell_type": "markdown",
   "metadata": {},
   "source": [
    "## Task Three (Dash App)"
   ]
  },
  {
   "cell_type": "code",
   "execution_count": 2,
   "metadata": {},
   "outputs": [],
   "source": [
    "# import dash\n",
    "# from dash import dcc, html, Input, Output, Dash, State, callback, ctx, dash_table\n",
    "# import dash_bootstrap_components as dbc\n",
    "# from dash_bootstrap_templates import load_figure_template\n",
    "# import plotly.express as px\n",
    "\n",
    "# import plotly.io as pio\n",
    "# import plotly.graph_objects as go"
   ]
  },
  {
   "cell_type": "code",
   "execution_count": 3,
   "metadata": {},
   "outputs": [],
   "source": [
    "# app = Dash(__name__)\n",
    "\n",
    "# app.layout = html.Div([\n",
    "#     html.H3('Soul Foods Pink Morsel Sales'),\n",
    "#     dbc.Row(\n",
    "#         [\n",
    "#             dbc.Col(\n",
    "#                 dcc.DatePickerRange(\n",
    "#                 id = 'sales-date-range',\n",
    "#                 min_date_allowed = min(soul_foods_sales_df['date']),\n",
    "#                 max_date_allowed = max(soul_foods_sales_df['date']),\n",
    "#                 month_format = 'MMMM Y',\n",
    "#                 end_date_placeholder_text = 'DD/MM/YYYY',\n",
    "#                 display_format = 'DD/MM/YYYY'\n",
    "#                 )\n",
    "#             )\n",
    "#         ]\n",
    "#     ),\n",
    "#     dcc.Graph(id = 'pink-morsel-sales-line-graph')\n",
    "# ])\n",
    "\n",
    "# @callback(\n",
    "#     Output(component_id = 'pink-morsel-sales-line-graph', component_property = 'figure'),\n",
    "#     Input(component_id = 'sales-date-range', component_property = 'start_date'),\n",
    "#     Input(component_id = 'sales-date-range', component_property = 'end_date'),\n",
    "# )\n",
    "\n",
    "# def update_plot(start_date, end_date):\n",
    "\n",
    "#     # Load dataset\n",
    "#     soul_foods_sales_df = pd.read_csv('./soul_foods_sales.csv')\n",
    "#     soul_foods_sales_df['date'] = pd.to_datetime(soul_foods_sales_df['date'])\n",
    "    \n",
    "#     # Filter date\n",
    "#     if start_date is not None:\n",
    "#         start_datetime = pd.to_datetime(start_date, format = '%Y-%m-%d')\n",
    "#         soul_foods_sales_df = soul_foods_sales_df.loc[soul_foods_sales_df['date'] >= start_datetime]\n",
    "\n",
    "#     if end_date is not None:\n",
    "#         end_datetime = pd.to_datetime(end_date, format = '%Y-%m-%d')\n",
    "#         soul_foods_sales_df = soul_foods_sales_df.loc[soul_foods_sales_df['date'] <= end_datetime]\n",
    "    \n",
    "#     # Create line chart\n",
    "#     soul_foods_sales_df_line_plot = px.line(soul_foods_sales_df, x = 'date', y = 'sales', title = 'Pink Morsel Sales (2018-2022)')\n",
    "\n",
    "#     return soul_foods_sales_df_line_plot\n",
    "\n",
    "# if __name__ == '__main__':\n",
    "#     app.run(debug = True)\n"
   ]
  }
 ],
 "metadata": {
  "kernelspec": {
   "display_name": "Python 3",
   "language": "python",
   "name": "python3"
  },
  "language_info": {
   "codemirror_mode": {
    "name": "ipython",
    "version": 3
   },
   "file_extension": ".py",
   "mimetype": "text/x-python",
   "name": "python",
   "nbconvert_exporter": "python",
   "pygments_lexer": "ipython3",
   "version": "3.10.7"
  }
 },
 "nbformat": 4,
 "nbformat_minor": 2
}
